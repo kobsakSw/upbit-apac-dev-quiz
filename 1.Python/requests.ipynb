{
 "cells": [
  {
   "cell_type": "code",
   "execution_count": 1,
   "id": "405cebeb",
   "metadata": {},
   "outputs": [],
   "source": [
    "import requests\n",
    "import pandas as pd"
   ]
  },
  {
   "cell_type": "markdown",
   "id": "f56d6294",
   "metadata": {},
   "source": [
    "## 1. Parse data"
   ]
  },
  {
   "cell_type": "code",
   "execution_count": 2,
   "id": "c1727304",
   "metadata": {},
   "outputs": [],
   "source": [
    "url = \"https://th-api.upbit.com/v1/candles/days?market=THB-BTC&count=200\"\n",
    "headers = {}"
   ]
  },
  {
   "cell_type": "code",
   "execution_count": 3,
   "id": "fb0f27bf",
   "metadata": {},
   "outputs": [],
   "source": [
    "response = requests.get(url)\n",
    "data = response.json()\n",
    "df = pd.DataFrame(data)"
   ]
  },
  {
   "cell_type": "code",
   "execution_count": 4,
   "id": "08eeaef9",
   "metadata": {},
   "outputs": [
    {
     "name": "stdout",
     "output_type": "stream",
     "text": [
      "<class 'pandas.core.frame.DataFrame'>\n",
      "RangeIndex: 200 entries, 0 to 199\n",
      "Data columns (total 12 columns):\n",
      " #   Column                   Non-Null Count  Dtype  \n",
      "---  ------                   --------------  -----  \n",
      " 0   market                   200 non-null    object \n",
      " 1   candle_date_time_utc     200 non-null    object \n",
      " 2   opening_price            200 non-null    float64\n",
      " 3   high_price               200 non-null    float64\n",
      " 4   low_price                200 non-null    float64\n",
      " 5   trade_price              200 non-null    float64\n",
      " 6   timestamp                200 non-null    int64  \n",
      " 7   candle_acc_trade_price   200 non-null    float64\n",
      " 8   candle_acc_trade_volume  200 non-null    float64\n",
      " 9   prev_closing_price       200 non-null    float64\n",
      " 10  change_price             198 non-null    float64\n",
      " 11  change_rate              200 non-null    float64\n",
      "dtypes: float64(9), int64(1), object(2)\n",
      "memory usage: 18.9+ KB\n"
     ]
    }
   ],
   "source": [
    "df.info()"
   ]
  },
  {
   "cell_type": "code",
   "execution_count": 5,
   "id": "c9940a08",
   "metadata": {},
   "outputs": [
    {
     "data": {
      "text/html": [
       "<div>\n",
       "<style scoped>\n",
       "    .dataframe tbody tr th:only-of-type {\n",
       "        vertical-align: middle;\n",
       "    }\n",
       "\n",
       "    .dataframe tbody tr th {\n",
       "        vertical-align: top;\n",
       "    }\n",
       "\n",
       "    .dataframe thead th {\n",
       "        text-align: right;\n",
       "    }\n",
       "</style>\n",
       "<table border=\"1\" class=\"dataframe\">\n",
       "  <thead>\n",
       "    <tr style=\"text-align: right;\">\n",
       "      <th></th>\n",
       "      <th>market</th>\n",
       "      <th>candle_date_time_utc</th>\n",
       "      <th>opening_price</th>\n",
       "      <th>high_price</th>\n",
       "      <th>low_price</th>\n",
       "      <th>trade_price</th>\n",
       "      <th>timestamp</th>\n",
       "      <th>candle_acc_trade_price</th>\n",
       "      <th>candle_acc_trade_volume</th>\n",
       "      <th>prev_closing_price</th>\n",
       "      <th>change_price</th>\n",
       "      <th>change_rate</th>\n",
       "    </tr>\n",
       "  </thead>\n",
       "  <tbody>\n",
       "    <tr>\n",
       "      <th>0</th>\n",
       "      <td>THB-BTC</td>\n",
       "      <td>2023-09-10T00:00:00</td>\n",
       "      <td>917600.0</td>\n",
       "      <td>923960.0</td>\n",
       "      <td>917520.0</td>\n",
       "      <td>923960.0</td>\n",
       "      <td>1694323698157</td>\n",
       "      <td>25661.619606</td>\n",
       "      <td>0.027868</td>\n",
       "      <td>917580.0</td>\n",
       "      <td>6380.0</td>\n",
       "      <td>0.006953</td>\n",
       "    </tr>\n",
       "    <tr>\n",
       "      <th>1</th>\n",
       "      <td>THB-BTC</td>\n",
       "      <td>2023-09-09T00:00:00</td>\n",
       "      <td>917520.0</td>\n",
       "      <td>923420.0</td>\n",
       "      <td>917500.0</td>\n",
       "      <td>917580.0</td>\n",
       "      <td>1694290345099</td>\n",
       "      <td>166487.990783</td>\n",
       "      <td>0.180902</td>\n",
       "      <td>916720.0</td>\n",
       "      <td>860.0</td>\n",
       "      <td>0.000938</td>\n",
       "    </tr>\n",
       "    <tr>\n",
       "      <th>2</th>\n",
       "      <td>THB-BTC</td>\n",
       "      <td>2023-09-08T00:00:00</td>\n",
       "      <td>937040.0</td>\n",
       "      <td>937040.0</td>\n",
       "      <td>916720.0</td>\n",
       "      <td>916720.0</td>\n",
       "      <td>1694168754739</td>\n",
       "      <td>139988.074493</td>\n",
       "      <td>0.151091</td>\n",
       "      <td>931240.0</td>\n",
       "      <td>-14520.0</td>\n",
       "      <td>-0.015592</td>\n",
       "    </tr>\n",
       "    <tr>\n",
       "      <th>3</th>\n",
       "      <td>THB-BTC</td>\n",
       "      <td>2023-09-07T00:00:00</td>\n",
       "      <td>918220.0</td>\n",
       "      <td>931900.0</td>\n",
       "      <td>907180.0</td>\n",
       "      <td>931240.0</td>\n",
       "      <td>1694127113845</td>\n",
       "      <td>265826.687334</td>\n",
       "      <td>0.290149</td>\n",
       "      <td>919580.0</td>\n",
       "      <td>11660.0</td>\n",
       "      <td>0.012680</td>\n",
       "    </tr>\n",
       "    <tr>\n",
       "      <th>4</th>\n",
       "      <td>THB-BTC</td>\n",
       "      <td>2023-09-06T00:00:00</td>\n",
       "      <td>908520.0</td>\n",
       "      <td>919580.0</td>\n",
       "      <td>905000.0</td>\n",
       "      <td>919580.0</td>\n",
       "      <td>1694022970842</td>\n",
       "      <td>166256.566920</td>\n",
       "      <td>0.181291</td>\n",
       "      <td>909040.0</td>\n",
       "      <td>10540.0</td>\n",
       "      <td>0.011595</td>\n",
       "    </tr>\n",
       "  </tbody>\n",
       "</table>\n",
       "</div>"
      ],
      "text/plain": [
       "    market candle_date_time_utc  opening_price  high_price  low_price  \\\n",
       "0  THB-BTC  2023-09-10T00:00:00       917600.0    923960.0   917520.0   \n",
       "1  THB-BTC  2023-09-09T00:00:00       917520.0    923420.0   917500.0   \n",
       "2  THB-BTC  2023-09-08T00:00:00       937040.0    937040.0   916720.0   \n",
       "3  THB-BTC  2023-09-07T00:00:00       918220.0    931900.0   907180.0   \n",
       "4  THB-BTC  2023-09-06T00:00:00       908520.0    919580.0   905000.0   \n",
       "\n",
       "   trade_price      timestamp  candle_acc_trade_price  \\\n",
       "0     923960.0  1694323698157            25661.619606   \n",
       "1     917580.0  1694290345099           166487.990783   \n",
       "2     916720.0  1694168754739           139988.074493   \n",
       "3     931240.0  1694127113845           265826.687334   \n",
       "4     919580.0  1694022970842           166256.566920   \n",
       "\n",
       "   candle_acc_trade_volume  prev_closing_price  change_price  change_rate  \n",
       "0                 0.027868            917580.0        6380.0     0.006953  \n",
       "1                 0.180902            916720.0         860.0     0.000938  \n",
       "2                 0.151091            931240.0      -14520.0    -0.015592  \n",
       "3                 0.290149            919580.0       11660.0     0.012680  \n",
       "4                 0.181291            909040.0       10540.0     0.011595  "
      ]
     },
     "execution_count": 5,
     "metadata": {},
     "output_type": "execute_result"
    }
   ],
   "source": [
    "df.head()"
   ]
  },
  {
   "cell_type": "code",
   "execution_count": 6,
   "id": "1ecc1275",
   "metadata": {},
   "outputs": [],
   "source": [
    "result_df = pd.DataFrame()\n",
    "result_df['timestamp'] = df['candle_date_time_utc']\n",
    "result_df['open'] = df['opening_price']\n",
    "result_df['high'] = df['high_price']\n",
    "result_df['low'] = df['low_price']\n",
    "result_df['close'] = df['prev_closing_price']"
   ]
  },
  {
   "cell_type": "code",
   "execution_count": 7,
   "id": "8e3677b3",
   "metadata": {},
   "outputs": [
    {
     "data": {
      "text/html": [
       "<div>\n",
       "<style scoped>\n",
       "    .dataframe tbody tr th:only-of-type {\n",
       "        vertical-align: middle;\n",
       "    }\n",
       "\n",
       "    .dataframe tbody tr th {\n",
       "        vertical-align: top;\n",
       "    }\n",
       "\n",
       "    .dataframe thead th {\n",
       "        text-align: right;\n",
       "    }\n",
       "</style>\n",
       "<table border=\"1\" class=\"dataframe\">\n",
       "  <thead>\n",
       "    <tr style=\"text-align: right;\">\n",
       "      <th></th>\n",
       "      <th>timestamp</th>\n",
       "      <th>open</th>\n",
       "      <th>high</th>\n",
       "      <th>low</th>\n",
       "      <th>close</th>\n",
       "    </tr>\n",
       "  </thead>\n",
       "  <tbody>\n",
       "    <tr>\n",
       "      <th>0</th>\n",
       "      <td>2023-09-10T00:00:00</td>\n",
       "      <td>917600.0</td>\n",
       "      <td>923960.0</td>\n",
       "      <td>917520.0</td>\n",
       "      <td>917580.0</td>\n",
       "    </tr>\n",
       "    <tr>\n",
       "      <th>1</th>\n",
       "      <td>2023-09-09T00:00:00</td>\n",
       "      <td>917520.0</td>\n",
       "      <td>923420.0</td>\n",
       "      <td>917500.0</td>\n",
       "      <td>916720.0</td>\n",
       "    </tr>\n",
       "    <tr>\n",
       "      <th>2</th>\n",
       "      <td>2023-09-08T00:00:00</td>\n",
       "      <td>937040.0</td>\n",
       "      <td>937040.0</td>\n",
       "      <td>916720.0</td>\n",
       "      <td>931240.0</td>\n",
       "    </tr>\n",
       "    <tr>\n",
       "      <th>3</th>\n",
       "      <td>2023-09-07T00:00:00</td>\n",
       "      <td>918220.0</td>\n",
       "      <td>931900.0</td>\n",
       "      <td>907180.0</td>\n",
       "      <td>919580.0</td>\n",
       "    </tr>\n",
       "    <tr>\n",
       "      <th>4</th>\n",
       "      <td>2023-09-06T00:00:00</td>\n",
       "      <td>908520.0</td>\n",
       "      <td>919580.0</td>\n",
       "      <td>905000.0</td>\n",
       "      <td>909040.0</td>\n",
       "    </tr>\n",
       "    <tr>\n",
       "      <th>...</th>\n",
       "      <td>...</td>\n",
       "      <td>...</td>\n",
       "      <td>...</td>\n",
       "      <td>...</td>\n",
       "      <td>...</td>\n",
       "    </tr>\n",
       "    <tr>\n",
       "      <th>195</th>\n",
       "      <td>2023-02-27T00:00:00</td>\n",
       "      <td>820280.0</td>\n",
       "      <td>828820.0</td>\n",
       "      <td>813920.0</td>\n",
       "      <td>819960.0</td>\n",
       "    </tr>\n",
       "    <tr>\n",
       "      <th>196</th>\n",
       "      <td>2023-02-26T00:00:00</td>\n",
       "      <td>814540.0</td>\n",
       "      <td>822440.0</td>\n",
       "      <td>810980.0</td>\n",
       "      <td>805000.0</td>\n",
       "    </tr>\n",
       "    <tr>\n",
       "      <th>197</th>\n",
       "      <td>2023-02-25T00:00:00</td>\n",
       "      <td>814300.0</td>\n",
       "      <td>814300.0</td>\n",
       "      <td>796220.0</td>\n",
       "      <td>807280.0</td>\n",
       "    </tr>\n",
       "    <tr>\n",
       "      <th>198</th>\n",
       "      <td>2023-02-24T00:00:00</td>\n",
       "      <td>832980.0</td>\n",
       "      <td>832980.0</td>\n",
       "      <td>804460.0</td>\n",
       "      <td>833040.0</td>\n",
       "    </tr>\n",
       "    <tr>\n",
       "      <th>199</th>\n",
       "      <td>2023-02-23T00:00:00</td>\n",
       "      <td>838000.0</td>\n",
       "      <td>848240.0</td>\n",
       "      <td>821700.0</td>\n",
       "      <td>829980.0</td>\n",
       "    </tr>\n",
       "  </tbody>\n",
       "</table>\n",
       "<p>200 rows × 5 columns</p>\n",
       "</div>"
      ],
      "text/plain": [
       "               timestamp      open      high       low     close\n",
       "0    2023-09-10T00:00:00  917600.0  923960.0  917520.0  917580.0\n",
       "1    2023-09-09T00:00:00  917520.0  923420.0  917500.0  916720.0\n",
       "2    2023-09-08T00:00:00  937040.0  937040.0  916720.0  931240.0\n",
       "3    2023-09-07T00:00:00  918220.0  931900.0  907180.0  919580.0\n",
       "4    2023-09-06T00:00:00  908520.0  919580.0  905000.0  909040.0\n",
       "..                   ...       ...       ...       ...       ...\n",
       "195  2023-02-27T00:00:00  820280.0  828820.0  813920.0  819960.0\n",
       "196  2023-02-26T00:00:00  814540.0  822440.0  810980.0  805000.0\n",
       "197  2023-02-25T00:00:00  814300.0  814300.0  796220.0  807280.0\n",
       "198  2023-02-24T00:00:00  832980.0  832980.0  804460.0  833040.0\n",
       "199  2023-02-23T00:00:00  838000.0  848240.0  821700.0  829980.0\n",
       "\n",
       "[200 rows x 5 columns]"
      ]
     },
     "execution_count": 7,
     "metadata": {},
     "output_type": "execute_result"
    }
   ],
   "source": [
    "result_df"
   ]
  },
  {
   "cell_type": "markdown",
   "id": "6efdb7d5",
   "metadata": {},
   "source": [
    "## 2. calculate and display"
   ]
  },
  {
   "cell_type": "markdown",
   "id": "f2a93318",
   "metadata": {},
   "source": [
    "### maximum_closing_price"
   ]
  },
  {
   "cell_type": "code",
   "execution_count": 8,
   "id": "aa0d1396",
   "metadata": {},
   "outputs": [
    {
     "name": "stdout",
     "output_type": "stream",
     "text": [
      "              timestamp       open       high        low      close\n",
      "68  2023-07-04T00:00:00  1090480.0  1092620.0  1071320.0  1090480.0\n"
     ]
    }
   ],
   "source": [
    "maximum_closing_price = result_df['close'].max()\n",
    "maximum_closing_price_rows = result_df[result_df['close'] == maximum_closing_price]\n",
    "print(maximum_closing_price_rows)"
   ]
  },
  {
   "cell_type": "markdown",
   "id": "a1612ae7",
   "metadata": {},
   "source": [
    "### minimum_closing_price"
   ]
  },
  {
   "cell_type": "code",
   "execution_count": 9,
   "id": "32d19c99",
   "metadata": {},
   "outputs": [
    {
     "name": "stdout",
     "output_type": "stream",
     "text": [
      "               timestamp      open      high       low     close\n",
      "183  2023-03-11T00:00:00  723340.0  723340.0  690660.0  691900.0\n"
     ]
    }
   ],
   "source": [
    "minimum_closing_price = result_df['close'].min()\n",
    "minimun_closing_price_rows = result_df[result_df['close'] == minimum_closing_price]\n",
    "print(minimun_closing_price_rows)"
   ]
  },
  {
   "cell_type": "markdown",
   "id": "3911db49",
   "metadata": {},
   "source": [
    "### average closing price"
   ]
  },
  {
   "cell_type": "code",
   "execution_count": 10,
   "id": "727c3b09",
   "metadata": {},
   "outputs": [
    {
     "name": "stdout",
     "output_type": "stream",
     "text": [
      "952926.2\n"
     ]
    }
   ],
   "source": [
    "avg_price = result_df['close'].mean()\n",
    "print(avg_price)"
   ]
  },
  {
   "cell_type": "markdown",
   "id": "caad2935",
   "metadata": {},
   "source": [
    "## 3. price changing"
   ]
  },
  {
   "cell_type": "code",
   "execution_count": 11,
   "id": "2ffea172",
   "metadata": {},
   "outputs": [
    {
     "data": {
      "text/html": [
       "<div>\n",
       "<style scoped>\n",
       "    .dataframe tbody tr th:only-of-type {\n",
       "        vertical-align: middle;\n",
       "    }\n",
       "\n",
       "    .dataframe tbody tr th {\n",
       "        vertical-align: top;\n",
       "    }\n",
       "\n",
       "    .dataframe thead th {\n",
       "        text-align: right;\n",
       "    }\n",
       "</style>\n",
       "<table border=\"1\" class=\"dataframe\">\n",
       "  <thead>\n",
       "    <tr style=\"text-align: right;\">\n",
       "      <th></th>\n",
       "      <th>timestamp</th>\n",
       "      <th>open</th>\n",
       "      <th>high</th>\n",
       "      <th>low</th>\n",
       "      <th>close</th>\n",
       "      <th>price_changing</th>\n",
       "    </tr>\n",
       "  </thead>\n",
       "  <tbody>\n",
       "    <tr>\n",
       "      <th>0</th>\n",
       "      <td>2023-09-10T00:00:00</td>\n",
       "      <td>917600.0</td>\n",
       "      <td>923960.0</td>\n",
       "      <td>917520.0</td>\n",
       "      <td>917580.0</td>\n",
       "      <td>NaN</td>\n",
       "    </tr>\n",
       "    <tr>\n",
       "      <th>1</th>\n",
       "      <td>2023-09-09T00:00:00</td>\n",
       "      <td>917520.0</td>\n",
       "      <td>923420.0</td>\n",
       "      <td>917500.0</td>\n",
       "      <td>916720.0</td>\n",
       "      <td>-860.0</td>\n",
       "    </tr>\n",
       "    <tr>\n",
       "      <th>2</th>\n",
       "      <td>2023-09-08T00:00:00</td>\n",
       "      <td>937040.0</td>\n",
       "      <td>937040.0</td>\n",
       "      <td>916720.0</td>\n",
       "      <td>931240.0</td>\n",
       "      <td>14520.0</td>\n",
       "    </tr>\n",
       "    <tr>\n",
       "      <th>3</th>\n",
       "      <td>2023-09-07T00:00:00</td>\n",
       "      <td>918220.0</td>\n",
       "      <td>931900.0</td>\n",
       "      <td>907180.0</td>\n",
       "      <td>919580.0</td>\n",
       "      <td>-11660.0</td>\n",
       "    </tr>\n",
       "    <tr>\n",
       "      <th>4</th>\n",
       "      <td>2023-09-06T00:00:00</td>\n",
       "      <td>908520.0</td>\n",
       "      <td>919580.0</td>\n",
       "      <td>905000.0</td>\n",
       "      <td>909040.0</td>\n",
       "      <td>-10540.0</td>\n",
       "    </tr>\n",
       "    <tr>\n",
       "      <th>...</th>\n",
       "      <td>...</td>\n",
       "      <td>...</td>\n",
       "      <td>...</td>\n",
       "      <td>...</td>\n",
       "      <td>...</td>\n",
       "      <td>...</td>\n",
       "    </tr>\n",
       "    <tr>\n",
       "      <th>195</th>\n",
       "      <td>2023-02-27T00:00:00</td>\n",
       "      <td>820280.0</td>\n",
       "      <td>828820.0</td>\n",
       "      <td>813920.0</td>\n",
       "      <td>819960.0</td>\n",
       "      <td>-2580.0</td>\n",
       "    </tr>\n",
       "    <tr>\n",
       "      <th>196</th>\n",
       "      <td>2023-02-26T00:00:00</td>\n",
       "      <td>814540.0</td>\n",
       "      <td>822440.0</td>\n",
       "      <td>810980.0</td>\n",
       "      <td>805000.0</td>\n",
       "      <td>-14960.0</td>\n",
       "    </tr>\n",
       "    <tr>\n",
       "      <th>197</th>\n",
       "      <td>2023-02-25T00:00:00</td>\n",
       "      <td>814300.0</td>\n",
       "      <td>814300.0</td>\n",
       "      <td>796220.0</td>\n",
       "      <td>807280.0</td>\n",
       "      <td>2280.0</td>\n",
       "    </tr>\n",
       "    <tr>\n",
       "      <th>198</th>\n",
       "      <td>2023-02-24T00:00:00</td>\n",
       "      <td>832980.0</td>\n",
       "      <td>832980.0</td>\n",
       "      <td>804460.0</td>\n",
       "      <td>833040.0</td>\n",
       "      <td>25760.0</td>\n",
       "    </tr>\n",
       "    <tr>\n",
       "      <th>199</th>\n",
       "      <td>2023-02-23T00:00:00</td>\n",
       "      <td>838000.0</td>\n",
       "      <td>848240.0</td>\n",
       "      <td>821700.0</td>\n",
       "      <td>829980.0</td>\n",
       "      <td>-3060.0</td>\n",
       "    </tr>\n",
       "  </tbody>\n",
       "</table>\n",
       "<p>200 rows × 6 columns</p>\n",
       "</div>"
      ],
      "text/plain": [
       "               timestamp      open      high       low     close  \\\n",
       "0    2023-09-10T00:00:00  917600.0  923960.0  917520.0  917580.0   \n",
       "1    2023-09-09T00:00:00  917520.0  923420.0  917500.0  916720.0   \n",
       "2    2023-09-08T00:00:00  937040.0  937040.0  916720.0  931240.0   \n",
       "3    2023-09-07T00:00:00  918220.0  931900.0  907180.0  919580.0   \n",
       "4    2023-09-06T00:00:00  908520.0  919580.0  905000.0  909040.0   \n",
       "..                   ...       ...       ...       ...       ...   \n",
       "195  2023-02-27T00:00:00  820280.0  828820.0  813920.0  819960.0   \n",
       "196  2023-02-26T00:00:00  814540.0  822440.0  810980.0  805000.0   \n",
       "197  2023-02-25T00:00:00  814300.0  814300.0  796220.0  807280.0   \n",
       "198  2023-02-24T00:00:00  832980.0  832980.0  804460.0  833040.0   \n",
       "199  2023-02-23T00:00:00  838000.0  848240.0  821700.0  829980.0   \n",
       "\n",
       "     price_changing  \n",
       "0               NaN  \n",
       "1            -860.0  \n",
       "2           14520.0  \n",
       "3          -11660.0  \n",
       "4          -10540.0  \n",
       "..              ...  \n",
       "195         -2580.0  \n",
       "196        -14960.0  \n",
       "197          2280.0  \n",
       "198         25760.0  \n",
       "199         -3060.0  \n",
       "\n",
       "[200 rows x 6 columns]"
      ]
     },
     "execution_count": 11,
     "metadata": {},
     "output_type": "execute_result"
    }
   ],
   "source": [
    "result_df['price_changing'] = result_df['close'].diff()\n",
    "result_df"
   ]
  },
  {
   "cell_type": "markdown",
   "id": "44f2f015",
   "metadata": {},
   "source": [
    "## 4. Filter table "
   ]
  },
  {
   "cell_type": "code",
   "execution_count": 12,
   "id": "37c0afb3",
   "metadata": {},
   "outputs": [],
   "source": [
    "filterd_df = result_df[result_df['price_changing']>10000]\n",
    "filterd_df = filterd_df.head()"
   ]
  },
  {
   "cell_type": "markdown",
   "id": "602dcd45",
   "metadata": {},
   "source": [
    "## 5. Correlation price_changing and high"
   ]
  },
  {
   "cell_type": "code",
   "execution_count": 13,
   "id": "f167e5ee",
   "metadata": {},
   "outputs": [],
   "source": [
    "correlation = filterd_df['price_changing'].corr(filterd_df['high'])"
   ]
  },
  {
   "cell_type": "code",
   "execution_count": 14,
   "id": "6fc76368",
   "metadata": {},
   "outputs": [
    {
     "data": {
      "text/plain": [
       "0.4931313406032412"
      ]
     },
     "execution_count": 14,
     "metadata": {},
     "output_type": "execute_result"
    }
   ],
   "source": [
    "correlation"
   ]
  },
  {
   "cell_type": "code",
   "execution_count": 15,
   "id": "128e6c05",
   "metadata": {},
   "outputs": [],
   "source": [
    "filterd_df.to_csv('upbit_data.csv')"
   ]
  }
 ],
 "metadata": {
  "kernelspec": {
   "display_name": "Python 3 (ipykernel)",
   "language": "python",
   "name": "python3"
  },
  "language_info": {
   "codemirror_mode": {
    "name": "ipython",
    "version": 3
   },
   "file_extension": ".py",
   "mimetype": "text/x-python",
   "name": "python",
   "nbconvert_exporter": "python",
   "pygments_lexer": "ipython3",
   "version": "3.11.4"
  }
 },
 "nbformat": 4,
 "nbformat_minor": 5
}
